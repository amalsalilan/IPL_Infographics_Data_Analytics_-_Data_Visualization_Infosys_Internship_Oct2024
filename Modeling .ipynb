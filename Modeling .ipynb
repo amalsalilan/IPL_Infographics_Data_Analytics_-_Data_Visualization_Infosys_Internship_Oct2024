{
 "cells": [
  {
   "cell_type": "code",
   "execution_count": 2,
   "id": "e14bf637-6469-4f1a-ac71-04e695448d7f",
   "metadata": {},
   "outputs": [],
   "source": [
    "\n",
    "import pandas as pd\n",
    "from sklearn.ensemble import RandomForestRegressor\n",
    "from sklearn.model_selection import train_test_split\n",
    "from sklearn.metrics import mean_squared_error, r2_score"
   ]
  },
  {
   "cell_type": "code",
   "execution_count": 4,
   "id": "1f2c1bbb-e27f-4223-8f34-c8377dadb561",
   "metadata": {},
   "outputs": [
    {
     "name": "stderr",
     "output_type": "stream",
     "text": [
      "C:\\Users\\govinda prasad\\AppData\\Local\\Temp\\ipykernel_12380\\2416424084.py:1: DtypeWarning: Columns (25) have mixed types. Specify dtype option on import or set low_memory=False.\n",
      "  df=pd.read_csv('all_season_details.csv')\n"
     ]
    }
   ],
   "source": [
    "df=pd.read_csv('all_season_details.csv')"
   ]
  },
  {
   "cell_type": "code",
   "execution_count": 6,
   "id": "0076820f-024a-47bd-9357-71beef0bbcb0",
   "metadata": {},
   "outputs": [],
   "source": [
    "df.drop(['comment_id','shortText','text','preText','postText'],axis=1,inplace=True)\n"
   ]
  },
  {
   "cell_type": "code",
   "execution_count": 8,
   "id": "c11426a3-87f5-4b4a-9be0-8cdd80a42ac4",
   "metadata": {},
   "outputs": [],
   "source": [
    "df.loc[(df['match_id'].isin([1359496,1359538])) & (df['season'].isnull()), 'season'] = 2023\n"
   ]
  },
  {
   "cell_type": "code",
   "execution_count": 10,
   "id": "2c466e79-17b5-4a99-8fc8-c54ac35fcec3",
   "metadata": {},
   "outputs": [],
   "source": [
    "df.drop_duplicates(inplace=True)\n"
   ]
  },
  {
   "cell_type": "code",
   "execution_count": 12,
   "id": "9bb2ced1-dafb-4f3d-bdc9-8b5af7a2221c",
   "metadata": {},
   "outputs": [],
   "source": [
    "new_df = df[['season', 'match_id', 'home_team', 'away_team', 'current_innings',\n",
    "                      'innings_id', 'over', 'ball', 'runs', 'wicket_id', \n",
    "                      'wkt_batsman_name', 'wkt_batsman_runs']].copy()\n",
    "\n",
    "new_df['cumulative_runs'] = new_df.groupby(['match_id', 'current_innings'])['runs'].cumsum()\n",
    "\n",
    "new_df['run_rate'] = new_df['cumulative_runs'] / (new_df['over'] + 0.1)\n",
    "\n",
    "new_df['wickets_lost'] = new_df.groupby(['match_id', 'current_innings'])['wkt_batsman_runs']\\\n",
    "                                                 .transform(lambda x: (x >= 0).cumsum())\n",
    "new_df.fillna(0, inplace=True)\n"
   ]
  },
  {
   "cell_type": "code",
   "execution_count": 14,
   "id": "862f3e86-5d1f-48d0-a996-c779142184a7",
   "metadata": {},
   "outputs": [
    {
     "name": "stdout",
     "output_type": "stream",
     "text": [
      "    Teams\n",
      "0      GT\n",
      "1    PBKS\n",
      "2     LSG\n",
      "3     SRH\n",
      "4     RCB\n",
      "5     CSK\n",
      "6      DC\n",
      "7      RR\n",
      "8     KKR\n",
      "9      MI\n",
      "10   KXIP\n",
      "11    RPS\n",
      "12     GL\n",
      "13    PWI\n",
      "14  Kochi\n"
     ]
    }
   ],
   "source": [
    "unique_home_teams = new_df['home_team'].unique().tolist()\n",
    "\n",
    "home_teams_df = pd.DataFrame(unique_home_teams, columns=['Teams'])\n",
    "\n",
    "print(home_teams_df)\n"
   ]
  },
  {
   "cell_type": "code",
   "execution_count": 42,
   "id": "39e92d55-bda2-4ecb-9793-46db0bcfbc2e",
   "metadata": {},
   "outputs": [],
   "source": [
    "# Create a dictionary for mapping\n",
    "team_mapping = {'GT': 0, 'PBKS': 1, 'LSG': 2, 'SRH': 3,'RCB': 4, 'CSK': 5, 'DC': 6, 'RR': 7,\n",
    "                'KKR': 8, 'MI': 9, 'KXIP': 10, 'RPS': 11,'GL': 12, 'PWI': 13, 'KOCHI': 14}\n",
    "\n",
    "# Apply the mapping to 'home_team' and 'away_team'\n",
    "new_df['home_team_encoded'] = new_df['home_team'].map(team_mapping)\n",
    "new_df['away_team_encoded'] = new_df['away_team'].map(team_mapping)\n",
    "\n",
    "new_df['current_innings'] = new_df['current_innings'].map(team_mapping)\n",
    "new_df.fillna(0, inplace=True)\n"
   ]
  },
  {
   "cell_type": "code",
   "execution_count": 44,
   "id": "d17593bc-5dad-411c-ae72-854fbe0286f6",
   "metadata": {},
   "outputs": [],
   "source": [
    "X = new_df[['home_team_encoded','away_team_encoded','current_innings','over', 'ball', 'run_rate','wickets_lost']]\n",
    "y = new_df['cumulative_runs']"
   ]
  },
  {
   "cell_type": "code",
   "execution_count": 46,
   "id": "1ecbf039-fce5-4dae-b1ab-c56f4b36d887",
   "metadata": {},
   "outputs": [],
   "source": [
    "X_train, X_test, y_train, y_test = train_test_split(X, y, test_size=0.2, random_state=42)"
   ]
  },
  {
   "cell_type": "code",
   "execution_count": 48,
   "id": "c997846f-3e4c-4853-949b-73cf0ad81d78",
   "metadata": {},
   "outputs": [
    {
     "data": {
      "text/html": [
       "<div>\n",
       "<style scoped>\n",
       "    .dataframe tbody tr th:only-of-type {\n",
       "        vertical-align: middle;\n",
       "    }\n",
       "\n",
       "    .dataframe tbody tr th {\n",
       "        vertical-align: top;\n",
       "    }\n",
       "\n",
       "    .dataframe thead th {\n",
       "        text-align: right;\n",
       "    }\n",
       "</style>\n",
       "<table border=\"1\" class=\"dataframe\">\n",
       "  <thead>\n",
       "    <tr style=\"text-align: right;\">\n",
       "      <th></th>\n",
       "      <th>home_team_encoded</th>\n",
       "      <th>away_team_encoded</th>\n",
       "      <th>current_innings</th>\n",
       "      <th>over</th>\n",
       "      <th>ball</th>\n",
       "      <th>run_rate</th>\n",
       "      <th>wickets_lost</th>\n",
       "    </tr>\n",
       "  </thead>\n",
       "  <tbody>\n",
       "    <tr>\n",
       "      <th>199033</th>\n",
       "      <td>13.0</td>\n",
       "      <td>8.0</td>\n",
       "      <td>0.0</td>\n",
       "      <td>12</td>\n",
       "      <td>4</td>\n",
       "      <td>5.537190</td>\n",
       "      <td>3</td>\n",
       "    </tr>\n",
       "    <tr>\n",
       "      <th>237647</th>\n",
       "      <td>6.0</td>\n",
       "      <td>3.0</td>\n",
       "      <td>0.0</td>\n",
       "      <td>17</td>\n",
       "      <td>1</td>\n",
       "      <td>8.596491</td>\n",
       "      <td>2</td>\n",
       "    </tr>\n",
       "    <tr>\n",
       "      <th>10462</th>\n",
       "      <td>0.0</td>\n",
       "      <td>6.0</td>\n",
       "      <td>0.0</td>\n",
       "      <td>1</td>\n",
       "      <td>5</td>\n",
       "      <td>4.545455</td>\n",
       "      <td>1</td>\n",
       "    </tr>\n",
       "    <tr>\n",
       "      <th>39476</th>\n",
       "      <td>7.0</td>\n",
       "      <td>4.0</td>\n",
       "      <td>0.0</td>\n",
       "      <td>8</td>\n",
       "      <td>4</td>\n",
       "      <td>8.518519</td>\n",
       "      <td>0</td>\n",
       "    </tr>\n",
       "    <tr>\n",
       "      <th>137929</th>\n",
       "      <td>3.0</td>\n",
       "      <td>5.0</td>\n",
       "      <td>0.0</td>\n",
       "      <td>9</td>\n",
       "      <td>2</td>\n",
       "      <td>6.153846</td>\n",
       "      <td>2</td>\n",
       "    </tr>\n",
       "    <tr>\n",
       "      <th>...</th>\n",
       "      <td>...</td>\n",
       "      <td>...</td>\n",
       "      <td>...</td>\n",
       "      <td>...</td>\n",
       "      <td>...</td>\n",
       "      <td>...</td>\n",
       "      <td>...</td>\n",
       "    </tr>\n",
       "    <tr>\n",
       "      <th>119880</th>\n",
       "      <td>8.0</td>\n",
       "      <td>3.0</td>\n",
       "      <td>0.0</td>\n",
       "      <td>10</td>\n",
       "      <td>6</td>\n",
       "      <td>7.029703</td>\n",
       "      <td>3</td>\n",
       "    </tr>\n",
       "    <tr>\n",
       "      <th>103695</th>\n",
       "      <td>3.0</td>\n",
       "      <td>9.0</td>\n",
       "      <td>0.0</td>\n",
       "      <td>12</td>\n",
       "      <td>4</td>\n",
       "      <td>8.016529</td>\n",
       "      <td>1</td>\n",
       "    </tr>\n",
       "    <tr>\n",
       "      <th>131933</th>\n",
       "      <td>10.0</td>\n",
       "      <td>4.0</td>\n",
       "      <td>0.0</td>\n",
       "      <td>6</td>\n",
       "      <td>1</td>\n",
       "      <td>8.196721</td>\n",
       "      <td>2</td>\n",
       "    </tr>\n",
       "    <tr>\n",
       "      <th>146868</th>\n",
       "      <td>8.0</td>\n",
       "      <td>3.0</td>\n",
       "      <td>0.0</td>\n",
       "      <td>18</td>\n",
       "      <td>6</td>\n",
       "      <td>7.182320</td>\n",
       "      <td>5</td>\n",
       "    </tr>\n",
       "    <tr>\n",
       "      <th>121959</th>\n",
       "      <td>6.0</td>\n",
       "      <td>7.0</td>\n",
       "      <td>0.0</td>\n",
       "      <td>10</td>\n",
       "      <td>6</td>\n",
       "      <td>7.326733</td>\n",
       "      <td>3</td>\n",
       "    </tr>\n",
       "  </tbody>\n",
       "</table>\n",
       "<p>194039 rows × 7 columns</p>\n",
       "</div>"
      ],
      "text/plain": [
       "        home_team_encoded  away_team_encoded  current_innings  over  ball  \\\n",
       "199033               13.0                8.0              0.0    12     4   \n",
       "237647                6.0                3.0              0.0    17     1   \n",
       "10462                 0.0                6.0              0.0     1     5   \n",
       "39476                 7.0                4.0              0.0     8     4   \n",
       "137929                3.0                5.0              0.0     9     2   \n",
       "...                   ...                ...              ...   ...   ...   \n",
       "119880                8.0                3.0              0.0    10     6   \n",
       "103695                3.0                9.0              0.0    12     4   \n",
       "131933               10.0                4.0              0.0     6     1   \n",
       "146868                8.0                3.0              0.0    18     6   \n",
       "121959                6.0                7.0              0.0    10     6   \n",
       "\n",
       "        run_rate  wickets_lost  \n",
       "199033  5.537190             3  \n",
       "237647  8.596491             2  \n",
       "10462   4.545455             1  \n",
       "39476   8.518519             0  \n",
       "137929  6.153846             2  \n",
       "...          ...           ...  \n",
       "119880  7.029703             3  \n",
       "103695  8.016529             1  \n",
       "131933  8.196721             2  \n",
       "146868  7.182320             5  \n",
       "121959  7.326733             3  \n",
       "\n",
       "[194039 rows x 7 columns]"
      ]
     },
     "execution_count": 48,
     "metadata": {},
     "output_type": "execute_result"
    }
   ],
   "source": [
    "X_train"
   ]
  },
  {
   "cell_type": "code",
   "execution_count": 84,
   "id": "82e2c53a-94ef-47b2-bd48-380ef98def47",
   "metadata": {},
   "outputs": [
    {
     "name": "stdout",
     "output_type": "stream",
     "text": [
      "MSE score:  0.0679065367965368\n",
      "R2 score:  0.999972790846467\n"
     ]
    }
   ],
   "source": [
    "rf_model=RandomForestRegressor()\n",
    "rf_model.fit(X_train,y_train)\n",
    "\n",
    "y_rf_simple_pred=rf_model.predict(X_test)\n",
    "rf_mse=mean_squared_error(y_test,y_rf_simple_pred)\n",
    "rf_r2=r2_score(y_test,y_rf_simple_pred)\n",
    "\n",
    "print('MSE score: ',rf_mse)\n",
    "print('R2 score: ',rf_r2)"
   ]
  },
  {
   "cell_type": "code",
   "execution_count": 85,
   "id": "5ef771d4-c3d9-432e-b889-1d44590ea47f",
   "metadata": {},
   "outputs": [],
   "source": [
    "new_data = pd.DataFrame({\n",
    "    'home_team_encoded': [1],\n",
    "    'away_team_encoded': [5],\n",
    "    'current_innings':[1],\n",
    "    'over': [12],  \n",
    "    'ball': [2],      \n",
    "    'run_rate': [10],        \n",
    "    'wickets_lost': [2]          \n",
    "})"
   ]
  },
  {
   "cell_type": "code",
   "execution_count": 86,
   "id": "18e7e902-5ce4-4cc8-91b8-2522ecc52ad2",
   "metadata": {},
   "outputs": [
    {
     "name": "stdout",
     "output_type": "stream",
     "text": [
      "Predicted Cumulative Runs: 121.0\n"
     ]
    }
   ],
   "source": [
    "predict_runs=rf_model.predict(new_data)\n",
    "print(f\"Predicted Cumulative Runs: {predict_runs[0]}\")"
   ]
  },
  {
   "cell_type": "code",
   "execution_count": 87,
   "id": "0824497a-a0bb-4f1a-8532-0ff9af1c1524",
   "metadata": {},
   "outputs": [
    {
     "name": "stdout",
     "output_type": "stream",
     "text": [
      "Linear  regression\n",
      "MSE score:  266.80583330355216\n",
      "R2 score:  0.8930948149570086\n"
     ]
    }
   ],
   "source": [
    "print('Linear  regression')\n",
    "\n",
    "from sklearn.linear_model import LinearRegression\n",
    "from sklearn.preprocessing import PolynomialFeatures\n",
    "\n",
    "\n",
    "poly_model = LinearRegression()\n",
    "poly_model.fit(X_train, y_train)\n",
    "\n",
    "pred = poly_model.predict(X_test)\n",
    "\n",
    "lr_mse=mean_squared_error(y_test,pred)\n",
    "print('MSE score: ',lr_mse)\n",
    "lr_r2=r2_score(y_test,pred)\n",
    "print('R2 score: ',lr_r2)"
   ]
  },
  {
   "cell_type": "code",
   "execution_count": 88,
   "id": "02ae5312-b131-47e8-bd99-f00fb21297db",
   "metadata": {},
   "outputs": [
    {
     "name": "stdout",
     "output_type": "stream",
     "text": [
      "Polynomial  regression\n",
      "MSE score:  4.181228379056165e-24\n",
      "R2 score:  1.0\n"
     ]
    }
   ],
   "source": [
    "print('Polynomial  regression')\n",
    "\n",
    "poly = PolynomialFeatures(degree=2) \n",
    "X_polya = poly.fit_transform(X_train)\n",
    "X_polyb=poly.fit_transform(X_test)\n",
    "\n",
    "\n",
    "poly_model = LinearRegression()\n",
    "poly_model.fit(X_polya, y_train)\n",
    "\n",
    "\n",
    "pred = poly_model.predict(X_polyb)\n",
    "\n",
    "pr_mse=mean_squared_error(y_test,pred)\n",
    "print('MSE score: ',pr_mse)\n",
    "\n",
    "pr_r2=r2_score(y_test,pred)\n",
    "print('R2 score: ',pr_r2)\n"
   ]
  },
  {
   "cell_type": "code",
   "execution_count": 89,
   "id": "b72dec8b-a819-4345-bb28-eaafbe970b61",
   "metadata": {},
   "outputs": [
    {
     "name": "stdout",
     "output_type": "stream",
     "text": [
      "Decision Tree  regression\n",
      "MSE score:  327.7749015281932\n",
      "R2 score:  0.8686654033517592\n"
     ]
    }
   ],
   "source": [
    "print('Decision Tree  regression')\n",
    "\n",
    "from sklearn.tree import DecisionTreeRegressor\n",
    "\n",
    "tree_model = DecisionTreeRegressor(max_depth=3)\n",
    "tree_model.fit(X_train, y_train)\n",
    "\n",
    "pred = tree_model.predict(X_test)\n",
    "\n",
    "tree_mse=mean_squared_error(y_test,pred)\n",
    "print('MSE score: ',tree_mse)\n",
    "\n",
    "tree_r2=r2_score(y_test,pred)\n",
    "print('R2 score: ',tree_r2)"
   ]
  },
  {
   "cell_type": "code",
   "execution_count": 100,
   "id": "3247bfcf-0470-4c9c-a75a-2980a755c8ca",
   "metadata": {},
   "outputs": [
    {
     "name": "stdout",
     "output_type": "stream",
     "text": [
      "Gradient Boosting Regressor:\n",
      "MSE score:  3.469246076764565\n",
      "R2 score:  0.9986099239690377\n"
     ]
    }
   ],
   "source": [
    "from sklearn.ensemble import GradientBoostingRegressor\n",
    "\n",
    "gb_model = GradientBoostingRegressor(random_state=42)\n",
    "gb_model.fit(X_train, y_train)\n",
    "\n",
    "y_pred_gb = gb_model.predict(X_test)\n",
    "\n",
    "mse_gb = mean_squared_error(y_test, y_pred_gb)\n",
    "r2_gb = r2_score(y_test, y_pred_gb)\n",
    "\n",
    "print(\"Gradient Boosting Regressor:\")\n",
    "print(\"MSE score: \",mse_gb)\n",
    "print(\"R2 score: \",r2_gb)"
   ]
  },
  {
   "cell_type": "code",
   "execution_count": 102,
   "id": "e3533f13-8f28-4423-a594-4573bed97d38",
   "metadata": {},
   "outputs": [
    {
     "name": "stdout",
     "output_type": "stream",
     "text": [
      "XGBoost Regressor:\n",
      "MSE score:  1.365125512728276\n",
      "R2 score:  0.9994530081748962\n"
     ]
    }
   ],
   "source": [
    "from xgboost import XGBRegressor\n",
    "\n",
    "\n",
    "xgb_model = XGBRegressor(random_state=42)\n",
    "xgb_model.fit(X_train, y_train)\n",
    "\n",
    "y_pred_xgb = xgb_model.predict(X_test)\n",
    "\n",
    "mse_xgb = mean_squared_error(y_test, y_pred_xgb)\n",
    "r2_xgb = r2_score(y_test, y_pred_xgb)\n",
    "\n",
    "print(\"XGBoost Regressor:\")\n",
    "print(\"MSE score: \",mse_xgb)\n",
    "print(\"R2 score: \",r2_xgb)"
   ]
  },
  {
   "cell_type": "code",
   "execution_count": null,
   "id": "5c006030-4df7-4458-92fe-58ceb0cda3e9",
   "metadata": {},
   "outputs": [],
   "source": []
  }
 ],
 "metadata": {
  "kernelspec": {
   "display_name": "Python 3 (ipykernel)",
   "language": "python",
   "name": "python3"
  },
  "language_info": {
   "codemirror_mode": {
    "name": "ipython",
    "version": 3
   },
   "file_extension": ".py",
   "mimetype": "text/x-python",
   "name": "python",
   "nbconvert_exporter": "python",
   "pygments_lexer": "ipython3",
   "version": "3.12.4"
  }
 },
 "nbformat": 4,
 "nbformat_minor": 5
}
