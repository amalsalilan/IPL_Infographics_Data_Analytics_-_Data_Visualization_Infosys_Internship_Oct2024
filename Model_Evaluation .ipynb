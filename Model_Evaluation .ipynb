{
 "cells": [
  {
   "cell_type": "code",
   "execution_count": 17,
   "id": "e14bf637-6469-4f1a-ac71-04e695448d7f",
   "metadata": {},
   "outputs": [],
   "source": [
    "\n",
    "import pandas as pd\n",
    "from sklearn.ensemble import RandomForestRegressor\n",
    "from sklearn.model_selection import train_test_split\n",
    "from sklearn.metrics import mean_squared_error, r2_score"
   ]
  },
  {
   "cell_type": "code",
   "execution_count": 23,
   "id": "1f2c1bbb-e27f-4223-8f34-c8377dadb561",
   "metadata": {},
   "outputs": [
    {
     "name": "stderr",
     "output_type": "stream",
     "text": [
      "C:\\Users\\govinda prasad\\AppData\\Local\\Temp\\ipykernel_31500\\2897799502.py:1: DtypeWarning: Columns (25) have mixed types. Specify dtype option on import or set low_memory=False.\n",
      "  df=pd.read_csv('all_season_details.csv' ,low_memory= True)\n"
     ]
    },
    {
     "name": "stdout",
     "output_type": "stream",
     "text": [
      "Unexpected exception formatting exception. Falling back to standard exception\n"
     ]
    },
    {
     "name": "stderr",
     "output_type": "stream",
     "text": [
      "Traceback (most recent call last):\n",
      "  File \"C:\\Users\\govinda prasad\\AppData\\Roaming\\Python\\Python312\\site-packages\\IPython\\core\\interactiveshell.py\", line 2168, in showtraceback\n",
      "    stb = self.InteractiveTB.structured_traceback(\n",
      "          ^^^^^^^^^^^^^^^^^^^^^^^^^^^^^^^^^^^^^^^^\n",
      "  File \"C:\\Users\\govinda prasad\\AppData\\Roaming\\Python\\Python312\\site-packages\\IPython\\core\\ultratb.py\", line 1457, in structured_traceback\n",
      "    return FormattedTB.structured_traceback(\n",
      "           ^^^^^^^^^^^^^^^^^^^^^^^^^^^^^^^^^\n",
      "  File \"C:\\Users\\govinda prasad\\AppData\\Roaming\\Python\\Python312\\site-packages\\IPython\\core\\ultratb.py\", line 1348, in structured_traceback\n",
      "    return VerboseTB.structured_traceback(\n",
      "           ^^^^^^^^^^^^^^^^^^^^^^^^^^^^^^^\n",
      "  File \"C:\\Users\\govinda prasad\\AppData\\Roaming\\Python\\Python312\\site-packages\\IPython\\core\\ultratb.py\", line 1195, in structured_traceback\n",
      "    formatted_exception = self.format_exception_as_a_whole(etype, evalue, etb, number_of_lines_of_context,\n",
      "                          ^^^^^^^^^^^^^^^^^^^^^^^^^^^^^^^^^^^^^^^^^^^^^^^^^^^^^^^^^^^^^^^^^^^^^^^^^^^^^^^^\n",
      "  File \"C:\\Users\\govinda prasad\\AppData\\Roaming\\Python\\Python312\\site-packages\\IPython\\core\\ultratb.py\", line 1110, in format_exception_as_a_whole\n",
      "    frames.append(self.format_record(record))\n",
      "                  ^^^^^^^^^^^^^^^^^^^^^^^^^^\n",
      "  File \"C:\\Users\\govinda prasad\\AppData\\Roaming\\Python\\Python312\\site-packages\\IPython\\core\\ultratb.py\", line 992, in format_record\n",
      "    frame_info.lines, Colors, self.has_colors, lvals\n",
      "    ^^^^^^^^^^^^^^^^\n",
      "  File \"C:\\Users\\govinda prasad\\AppData\\Roaming\\Python\\Python312\\site-packages\\IPython\\core\\ultratb.py\", line 804, in lines\n",
      "    return self._sd.lines\n",
      "           ^^^^^^^^^^^^^^\n",
      "  File \"C:\\Users\\govinda prasad\\AppData\\Roaming\\Python\\Python312\\site-packages\\stack_data\\utils.py\", line 145, in cached_property_wrapper\n",
      "    value = obj.__dict__[self.func.__name__] = self.func(obj)\n",
      "                                               ^^^^^^^^^^^^^^\n",
      "  File \"C:\\Users\\govinda prasad\\AppData\\Roaming\\Python\\Python312\\site-packages\\stack_data\\core.py\", line 734, in lines\n",
      "    pieces = self.included_pieces\n",
      "             ^^^^^^^^^^^^^^^^^^^^\n",
      "  File \"C:\\Users\\govinda prasad\\AppData\\Roaming\\Python\\Python312\\site-packages\\stack_data\\utils.py\", line 145, in cached_property_wrapper\n",
      "    value = obj.__dict__[self.func.__name__] = self.func(obj)\n",
      "                                               ^^^^^^^^^^^^^^\n",
      "  File \"C:\\Users\\govinda prasad\\AppData\\Roaming\\Python\\Python312\\site-packages\\stack_data\\core.py\", line 677, in included_pieces\n",
      "    scope_pieces = self.scope_pieces\n",
      "                   ^^^^^^^^^^^^^^^^^\n",
      "  File \"C:\\Users\\govinda prasad\\AppData\\Roaming\\Python\\Python312\\site-packages\\stack_data\\utils.py\", line 145, in cached_property_wrapper\n",
      "    value = obj.__dict__[self.func.__name__] = self.func(obj)\n",
      "                                               ^^^^^^^^^^^^^^\n",
      "  File \"C:\\Users\\govinda prasad\\AppData\\Roaming\\Python\\Python312\\site-packages\\stack_data\\core.py\", line 617, in scope_pieces\n",
      "    for piece in self.source.pieces\n",
      "                 ^^^^^^^^^^^^^^^^^^\n",
      "  File \"C:\\Users\\govinda prasad\\AppData\\Roaming\\Python\\Python312\\site-packages\\stack_data\\utils.py\", line 145, in cached_property_wrapper\n",
      "    value = obj.__dict__[self.func.__name__] = self.func(obj)\n",
      "                                               ^^^^^^^^^^^^^^\n",
      "  File \"C:\\Users\\govinda prasad\\AppData\\Roaming\\Python\\Python312\\site-packages\\stack_data\\core.py\", line 101, in pieces\n",
      "    return list(self._clean_pieces())\n",
      "           ^^^^^^^^^^^^^^^^^^^^^^^^^^\n",
      "  File \"C:\\Users\\govinda prasad\\AppData\\Roaming\\Python\\Python312\\site-packages\\stack_data\\core.py\", line 114, in _clean_pieces\n",
      "    pieces = [\n",
      "             ^\n",
      "  File \"C:\\Users\\govinda prasad\\AppData\\Roaming\\Python\\Python312\\site-packages\\stack_data\\core.py\", line 168, in _raw_split_into_pieces\n",
      "    for inner_start, inner_end in self._raw_split_into_pieces(sub_stmt, *rang):\n",
      "  File \"C:\\Users\\govinda prasad\\AppData\\Roaming\\Python\\Python312\\site-packages\\stack_data\\core.py\", line 168, in _raw_split_into_pieces\n",
      "    for inner_start, inner_end in self._raw_split_into_pieces(sub_stmt, *rang):\n",
      "  File \"C:\\Users\\govinda prasad\\AppData\\Roaming\\Python\\Python312\\site-packages\\stack_data\\core.py\", line 168, in _raw_split_into_pieces\n",
      "    for inner_start, inner_end in self._raw_split_into_pieces(sub_stmt, *rang):\n",
      "  File \"C:\\Users\\govinda prasad\\AppData\\Roaming\\Python\\Python312\\site-packages\\stack_data\\core.py\", line 166, in _raw_split_into_pieces\n",
      "    for rang, group in sorted(group_by_key_func(body, self.line_range).items()):\n",
      "                              ^^^^^^^^^^^^^^^^^^^^^^^^^^^^^^^^^^^^^^^^\n",
      "  File \"C:\\Users\\govinda prasad\\AppData\\Roaming\\Python\\Python312\\site-packages\\stack_data\\utils.py\", line 125, in group_by_key_func\n",
      "    result[key_func(item)].append(item)\n",
      "           ^^^^^^^^^^^^^^\n",
      "  File \"C:\\Users\\govinda prasad\\AppData\\Roaming\\Python\\Python312\\site-packages\\stack_data\\core.py\", line 178, in line_range\n",
      "    return line_range(self.asttext(), node)\n",
      "           ^^^^^^^^^^^^^^^^^^^^^^^^^^^^^^^^\n",
      "  File \"C:\\Users\\govinda prasad\\AppData\\Roaming\\Python\\Python312\\site-packages\\stack_data\\utils.py\", line 40, in line_range\n",
      "    (start, _), (end, _) = atok.get_text_positions(node, padded=False)\n",
      "                           ^^^^^^^^^^^^^^^^^^^^^^^^^^^^^^^^^^^^^^^^^^^\n",
      "  File \"C:\\Users\\govinda prasad\\AppData\\Roaming\\Python\\Python312\\site-packages\\asttokens\\asttokens.py\", line 418, in get_text_positions\n",
      "    return self._get_text_positions_tokenless(node, padded)\n",
      "           ^^^^^^^^^^^^^^^^^^^^^^^^^^^^^^^^^^^^^^^^^^^^^^^^\n",
      "  File \"C:\\Users\\govinda prasad\\AppData\\Roaming\\Python\\Python312\\site-packages\\asttokens\\asttokens.py\", line 388, in _get_text_positions_tokenless\n",
      "    start_col_offset = self._line_numbers.from_utf8_col(start_lineno, start_node.col_offset)\n",
      "                       ^^^^^^^^^^^^^^^^^^^^^^^^^^^^^^^^^^^^^^^^^^^^^^^^^^^^^^^^^^^^^^^^^^^^^\n",
      "  File \"C:\\Users\\govinda prasad\\AppData\\Roaming\\Python\\Python312\\site-packages\\asttokens\\line_numbers.py\", line 49, in from_utf8_col\n",
      "    self._utf8_offset_cache[line] = offsets\n",
      "    ~~~~~~~~~~~~~~~~~~~~~~~^^^^^^\n",
      "MemoryError\n"
     ]
    }
   ],
   "source": [
    "df=pd.read_csv('all_season_details.csv' ,low_memory= True)"
   ]
  },
  {
   "cell_type": "code",
   "execution_count": null,
   "id": "0076820f-024a-47bd-9357-71beef0bbcb0",
   "metadata": {},
   "outputs": [],
   "source": [
    "df.drop(['comment_id','shortText','text','preText','postText'],axis=1,inplace=True)\n"
   ]
  },
  {
   "cell_type": "code",
   "execution_count": 164,
   "id": "c11426a3-87f5-4b4a-9be0-8cdd80a42ac4",
   "metadata": {},
   "outputs": [],
   "source": [
    "df.loc[(df['match_id'].isin([1359496,1359538])) & (df['season'].isnull()), 'season'] = 2023\n"
   ]
  },
  {
   "cell_type": "code",
   "execution_count": 165,
   "id": "2c466e79-17b5-4a99-8fc8-c54ac35fcec3",
   "metadata": {},
   "outputs": [],
   "source": [
    "df.drop_duplicates(inplace=True)\n"
   ]
  },
  {
   "cell_type": "code",
   "execution_count": 166,
   "id": "9bb2ced1-dafb-4f3d-bdc9-8b5af7a2221c",
   "metadata": {},
   "outputs": [],
   "source": [
    "new_df = df[['season', 'match_id', 'home_team', 'away_team', 'current_innings',\n",
    "                      'innings_id', 'over', 'ball', 'runs', 'wicket_id', \n",
    "                      'wkt_batsman_name', 'wkt_batsman_runs']].copy()\n",
    "\n",
    "new_df['cumulative_runs'] = new_df.groupby(['match_id', 'current_innings'])['runs'].cumsum()\n",
    "\n",
    "new_df['run_rate'] = new_df['cumulative_runs'] / (new_df['over'] + 0.1)\n",
    "\n",
    "new_df['wickets_lost'] = new_df.groupby(['match_id', 'current_innings'])['wkt_batsman_runs']\\\n",
    "                                                 .transform(lambda x: (x >= 0).cumsum())\n",
    "new_df.fillna(0, inplace=True)\n"
   ]
  },
  {
   "cell_type": "code",
   "execution_count": 168,
   "id": "862f3e86-5d1f-48d0-a996-c779142184a7",
   "metadata": {},
   "outputs": [
    {
     "name": "stdout",
     "output_type": "stream",
     "text": [
      "    Teams\n",
      "0      GT\n",
      "1    PBKS\n",
      "2     LSG\n",
      "3     SRH\n",
      "4     RCB\n",
      "5     CSK\n",
      "6      DC\n",
      "7      RR\n",
      "8     KKR\n",
      "9      MI\n",
      "10   KXIP\n",
      "11    RPS\n",
      "12     GL\n",
      "13    PWI\n",
      "14  Kochi\n"
     ]
    }
   ],
   "source": [
    "unique_home_teams = new_df['home_team'].unique().tolist()\n",
    "\n",
    "home_teams_df = pd.DataFrame(unique_home_teams, columns=['Teams'])\n",
    "\n",
    "print(home_teams_df)\n"
   ]
  },
  {
   "cell_type": "code",
   "execution_count": 174,
   "id": "39e92d55-bda2-4ecb-9793-46db0bcfbc2e",
   "metadata": {},
   "outputs": [],
   "source": [
    "# Create a dictionary for mapping\n",
    "team_mapping = {'GT': 0, 'PBKS': 1, 'LSG': 2, 'SRH': 3,'RCB': 4, 'CSK': 5, 'DC': 6, 'RR': 7,\n",
    "                'KKR': 8, 'MI': 9, 'KXIP': 10, 'RPS': 11,'GL': 12, 'PWI': 13, 'KOCHI': 14}\n",
    "\n",
    "# Apply the mapping to 'home_team' and 'away_team'\n",
    "new_df['home_team_encoded'] = new_df['home_team'].map(team_mapping)\n",
    "new_df['away_team_encoded'] = new_df['away_team'].map(team_mapping)\n",
    "\n",
    "new_df['current_innings'] = new_df['current_innings'].map(team_mapping)\n",
    "new_df.fillna(0, inplace=True)\n"
   ]
  },
  {
   "cell_type": "code",
   "execution_count": 176,
   "id": "d17593bc-5dad-411c-ae72-854fbe0286f6",
   "metadata": {},
   "outputs": [],
   "source": [
    "X = new_df[['home_team_encoded','away_team_encoded','current_innings','over', 'ball', 'run_rate','wickets_lost']]\n",
    "y = new_df['cumulative_runs']"
   ]
  },
  {
   "cell_type": "code",
   "execution_count": 178,
   "id": "1ecbf039-fce5-4dae-b1ab-c56f4b36d887",
   "metadata": {},
   "outputs": [],
   "source": [
    "X_train, X_test, y_train, y_test = train_test_split(X, y, test_size=0.2, random_state=42)"
   ]
  },
  {
   "cell_type": "code",
   "execution_count": 180,
   "id": "c997846f-3e4c-4853-949b-73cf0ad81d78",
   "metadata": {},
   "outputs": [
    {
     "data": {
      "text/html": [
       "<div>\n",
       "<style scoped>\n",
       "    .dataframe tbody tr th:only-of-type {\n",
       "        vertical-align: middle;\n",
       "    }\n",
       "\n",
       "    .dataframe tbody tr th {\n",
       "        vertical-align: top;\n",
       "    }\n",
       "\n",
       "    .dataframe thead th {\n",
       "        text-align: right;\n",
       "    }\n",
       "</style>\n",
       "<table border=\"1\" class=\"dataframe\">\n",
       "  <thead>\n",
       "    <tr style=\"text-align: right;\">\n",
       "      <th></th>\n",
       "      <th>home_team_encoded</th>\n",
       "      <th>away_team_encoded</th>\n",
       "      <th>current_innings</th>\n",
       "      <th>over</th>\n",
       "      <th>ball</th>\n",
       "      <th>run_rate</th>\n",
       "      <th>wickets_lost</th>\n",
       "    </tr>\n",
       "  </thead>\n",
       "  <tbody>\n",
       "    <tr>\n",
       "      <th>199033</th>\n",
       "      <td>13.0</td>\n",
       "      <td>8.0</td>\n",
       "      <td>13.0</td>\n",
       "      <td>12</td>\n",
       "      <td>4</td>\n",
       "      <td>5.537190</td>\n",
       "      <td>3</td>\n",
       "    </tr>\n",
       "    <tr>\n",
       "      <th>237647</th>\n",
       "      <td>6.0</td>\n",
       "      <td>3.0</td>\n",
       "      <td>6.0</td>\n",
       "      <td>17</td>\n",
       "      <td>1</td>\n",
       "      <td>8.596491</td>\n",
       "      <td>2</td>\n",
       "    </tr>\n",
       "    <tr>\n",
       "      <th>10462</th>\n",
       "      <td>0.0</td>\n",
       "      <td>6.0</td>\n",
       "      <td>6.0</td>\n",
       "      <td>1</td>\n",
       "      <td>5</td>\n",
       "      <td>4.545455</td>\n",
       "      <td>1</td>\n",
       "    </tr>\n",
       "    <tr>\n",
       "      <th>39476</th>\n",
       "      <td>7.0</td>\n",
       "      <td>4.0</td>\n",
       "      <td>7.0</td>\n",
       "      <td>8</td>\n",
       "      <td>4</td>\n",
       "      <td>8.518519</td>\n",
       "      <td>0</td>\n",
       "    </tr>\n",
       "    <tr>\n",
       "      <th>137929</th>\n",
       "      <td>3.0</td>\n",
       "      <td>5.0</td>\n",
       "      <td>3.0</td>\n",
       "      <td>9</td>\n",
       "      <td>2</td>\n",
       "      <td>6.153846</td>\n",
       "      <td>2</td>\n",
       "    </tr>\n",
       "    <tr>\n",
       "      <th>...</th>\n",
       "      <td>...</td>\n",
       "      <td>...</td>\n",
       "      <td>...</td>\n",
       "      <td>...</td>\n",
       "      <td>...</td>\n",
       "      <td>...</td>\n",
       "      <td>...</td>\n",
       "    </tr>\n",
       "    <tr>\n",
       "      <th>119880</th>\n",
       "      <td>8.0</td>\n",
       "      <td>3.0</td>\n",
       "      <td>3.0</td>\n",
       "      <td>10</td>\n",
       "      <td>6</td>\n",
       "      <td>7.029703</td>\n",
       "      <td>3</td>\n",
       "    </tr>\n",
       "    <tr>\n",
       "      <th>103695</th>\n",
       "      <td>3.0</td>\n",
       "      <td>9.0</td>\n",
       "      <td>3.0</td>\n",
       "      <td>12</td>\n",
       "      <td>4</td>\n",
       "      <td>8.016529</td>\n",
       "      <td>1</td>\n",
       "    </tr>\n",
       "    <tr>\n",
       "      <th>131933</th>\n",
       "      <td>10.0</td>\n",
       "      <td>4.0</td>\n",
       "      <td>4.0</td>\n",
       "      <td>6</td>\n",
       "      <td>1</td>\n",
       "      <td>8.196721</td>\n",
       "      <td>2</td>\n",
       "    </tr>\n",
       "    <tr>\n",
       "      <th>146868</th>\n",
       "      <td>8.0</td>\n",
       "      <td>3.0</td>\n",
       "      <td>3.0</td>\n",
       "      <td>18</td>\n",
       "      <td>6</td>\n",
       "      <td>7.182320</td>\n",
       "      <td>5</td>\n",
       "    </tr>\n",
       "    <tr>\n",
       "      <th>121959</th>\n",
       "      <td>6.0</td>\n",
       "      <td>7.0</td>\n",
       "      <td>7.0</td>\n",
       "      <td>10</td>\n",
       "      <td>6</td>\n",
       "      <td>7.326733</td>\n",
       "      <td>3</td>\n",
       "    </tr>\n",
       "  </tbody>\n",
       "</table>\n",
       "<p>194039 rows × 7 columns</p>\n",
       "</div>"
      ],
      "text/plain": [
       "        home_team_encoded  away_team_encoded  current_innings  over  ball  \\\n",
       "199033               13.0                8.0             13.0    12     4   \n",
       "237647                6.0                3.0              6.0    17     1   \n",
       "10462                 0.0                6.0              6.0     1     5   \n",
       "39476                 7.0                4.0              7.0     8     4   \n",
       "137929                3.0                5.0              3.0     9     2   \n",
       "...                   ...                ...              ...   ...   ...   \n",
       "119880                8.0                3.0              3.0    10     6   \n",
       "103695                3.0                9.0              3.0    12     4   \n",
       "131933               10.0                4.0              4.0     6     1   \n",
       "146868                8.0                3.0              3.0    18     6   \n",
       "121959                6.0                7.0              7.0    10     6   \n",
       "\n",
       "        run_rate  wickets_lost  \n",
       "199033  5.537190             3  \n",
       "237647  8.596491             2  \n",
       "10462   4.545455             1  \n",
       "39476   8.518519             0  \n",
       "137929  6.153846             2  \n",
       "...          ...           ...  \n",
       "119880  7.029703             3  \n",
       "103695  8.016529             1  \n",
       "131933  8.196721             2  \n",
       "146868  7.182320             5  \n",
       "121959  7.326733             3  \n",
       "\n",
       "[194039 rows x 7 columns]"
      ]
     },
     "execution_count": 180,
     "metadata": {},
     "output_type": "execute_result"
    }
   ],
   "source": [
    "X_train"
   ]
  },
  {
   "cell_type": "code",
   "execution_count": 182,
   "id": "82e2c53a-94ef-47b2-bd48-380ef98def47",
   "metadata": {},
   "outputs": [
    {
     "name": "stdout",
     "output_type": "stream",
     "text": [
      "MSE score:  0.05560748093176666\n",
      "R2 score:  0.9999777188978023\n"
     ]
    }
   ],
   "source": [
    "rf_model=RandomForestRegressor()\n",
    "rf_model.fit(X_train,y_train)\n",
    "\n",
    "y_rf_simple_pred=rf_model.predict(X_test)\n",
    "rf_mse=mean_squared_error(y_test,y_rf_simple_pred)\n",
    "rf_r2=r2_score(y_test,y_rf_simple_pred)\n",
    "\n",
    "print('MSE score: ',rf_mse)\n",
    "print('R2 score: ',rf_r2)"
   ]
  },
  {
   "cell_type": "code",
   "execution_count": 183,
   "id": "5ef771d4-c3d9-432e-b889-1d44590ea47f",
   "metadata": {},
   "outputs": [],
   "source": [
    "new_data = pd.DataFrame({\n",
    "    'home_team_encoded': [1],\n",
    "    'away_team_encoded': [5],\n",
    "    'current_innings':[1],\n",
    "    'over': [12],  \n",
    "    'ball': [2],      \n",
    "    'run_rate': [10],        \n",
    "    'wickets_lost': [2]          \n",
    "})"
   ]
  },
  {
   "cell_type": "code",
   "execution_count": 184,
   "id": "18e7e902-5ce4-4cc8-91b8-2522ecc52ad2",
   "metadata": {},
   "outputs": [
    {
     "name": "stdout",
     "output_type": "stream",
     "text": [
      "Predicted Cumulative Runs: 121.0\n"
     ]
    }
   ],
   "source": [
    "predict_runs=rf_model.predict(new_data)\n",
    "print(f\"Predicted Cumulative Runs: {predict_runs[0]}\")"
   ]
  },
  {
   "cell_type": "code",
   "execution_count": 188,
   "id": "0824497a-a0bb-4f1a-8532-0ff9af1c1524",
   "metadata": {},
   "outputs": [
    {
     "name": "stdout",
     "output_type": "stream",
     "text": [
      "Linear  regression\n",
      "MSE score:  266.7656880261982\n",
      "R2 score:  0.8931109005809659\n"
     ]
    }
   ],
   "source": [
    "print('Linear  regression')\n",
    "\n",
    "from sklearn.linear_model import LinearRegression\n",
    "from sklearn.preprocessing import PolynomialFeatures\n",
    "\n",
    "\n",
    "lr_model = LinearRegression()\n",
    "lr_model.fit(X_train, y_train)\n",
    "\n",
    "pred = lr_model.predict(X_test)\n",
    "\n",
    "lr_mse=mean_squared_error(y_test,pred)\n",
    "print('MSE score: ',lr_mse)\n",
    "lr_r2=r2_score(y_test,pred)\n",
    "print('R2 score: ',lr_r2)"
   ]
  },
  {
   "cell_type": "code",
   "execution_count": 190,
   "id": "02ae5312-b131-47e8-bd99-f00fb21297db",
   "metadata": {},
   "outputs": [
    {
     "name": "stdout",
     "output_type": "stream",
     "text": [
      "Polynomial  regression\n",
      "MSE score:  4.04188542156602e-24\n",
      "R2 score:  1.0\n"
     ]
    }
   ],
   "source": [
    "print('Polynomial  regression')\n",
    "\n",
    "poly = PolynomialFeatures(degree=2) \n",
    "X_polya = poly.fit_transform(X_train)\n",
    "X_polyb=poly.fit_transform(X_test)\n",
    "\n",
    "\n",
    "poly_model = LinearRegression()\n",
    "poly_model.fit(X_polya, y_train)\n",
    "\n",
    "\n",
    "pred = poly_model.predict(X_polyb)\n",
    "\n",
    "pr_mse=mean_squared_error(y_test,pred)\n",
    "print('MSE score: ',pr_mse)\n",
    "\n",
    "pr_r2=r2_score(y_test,pred)\n",
    "print('R2 score: ',pr_r2)\n"
   ]
  },
  {
   "cell_type": "code",
   "execution_count": 192,
   "id": "b72dec8b-a819-4345-bb28-eaafbe970b61",
   "metadata": {},
   "outputs": [
    {
     "name": "stdout",
     "output_type": "stream",
     "text": [
      "Decision Tree  regression\n",
      "MSE score:  327.7749015281932\n",
      "R2 score:  0.8686654033517592\n"
     ]
    }
   ],
   "source": [
    "print('Decision Tree  regression')\n",
    "\n",
    "from sklearn.tree import DecisionTreeRegressor\n",
    "\n",
    "tree_model = DecisionTreeRegressor(max_depth=3)\n",
    "tree_model.fit(X_train, y_train)\n",
    "\n",
    "pred = tree_model.predict(X_test)\n",
    "\n",
    "tree_mse=mean_squared_error(y_test,pred)\n",
    "print('MSE score: ',tree_mse)\n",
    "\n",
    "tree_r2=r2_score(y_test,pred)\n",
    "print('R2 score: ',tree_r2)"
   ]
  },
  {
   "cell_type": "code",
   "execution_count": 194,
   "id": "16c92e8c-a627-48ed-afb4-a70d1a61fc42",
   "metadata": {},
   "outputs": [
    {
     "data": {
      "text/plain": [
       "array([115.09278835])"
      ]
     },
     "execution_count": 194,
     "metadata": {},
     "output_type": "execute_result"
    }
   ],
   "source": [
    "predicted_runs_tree = tree_model.predict(new_data)\n",
    "predicted_runs_tree"
   ]
  },
  {
   "cell_type": "code",
   "execution_count": 196,
   "id": "a84a74bb-ca64-4eb2-9879-1b3f6419a873",
   "metadata": {},
   "outputs": [
    {
     "name": "stdout",
     "output_type": "stream",
     "text": [
      "Gradient Boosting Regressor:\n",
      "MSE score:  3.4692460767645668\n",
      "R2 score:  0.9986099239690377\n"
     ]
    }
   ],
   "source": [
    "from sklearn.ensemble import GradientBoostingRegressor\n",
    "\n",
    "gb_model = GradientBoostingRegressor(random_state=42)\n",
    "gb_model.fit(X_train, y_train)\n",
    "\n",
    "y_pred_gb = gb_model.predict(X_test)\n",
    "\n",
    "mse_gb = mean_squared_error(y_test, y_pred_gb)\n",
    "r2_gb = r2_score(y_test, y_pred_gb)\n",
    "\n",
    "print(\"Gradient Boosting Regressor:\")\n",
    "print(\"MSE score: \",mse_gb)\n",
    "print(\"R2 score: \",r2_gb)"
   ]
  },
  {
   "cell_type": "code",
   "execution_count": 197,
   "id": "f3904c95-906a-4d27-8d41-6ca124031120",
   "metadata": {},
   "outputs": [
    {
     "name": "stdout",
     "output_type": "stream",
     "text": [
      "XGBoost Regressor:\n",
      "MSE score:  1.4133610932762821\n",
      "R2 score:  0.999433696269989\n"
     ]
    }
   ],
   "source": [
    "from xgboost import XGBRegressor\n",
    "\n",
    "\n",
    "xgb_model = XGBRegressor(random_state=42)\n",
    "xgb_model.fit(X_train, y_train)\n",
    "\n",
    "y_pred_xgb = xgb_model.predict(X_test)\n",
    "\n",
    "mse_xgb = mean_squared_error(y_test, y_pred_xgb)\n",
    "r2_xgb = r2_score(y_test, y_pred_xgb)\n",
    "\n",
    "print(\"XGBoost Regressor:\")\n",
    "print(\"MSE score: \",mse_xgb)\n",
    "print(\"R2 score: \",r2_xgb)"
   ]
  },
  {
   "cell_type": "code",
   "execution_count": 198,
   "id": "065f38a1-c070-4f4e-a6f2-4977d4196906",
   "metadata": {},
   "outputs": [
    {
     "name": "stdout",
     "output_type": "stream",
     "text": [
      "                   Model           MSE  R² Score\n",
      "0          Random Forest  5.560748e-02  0.999978\n",
      "1      Linear Regression  2.667657e+02  0.893111\n",
      "2  Polynomial Regression  4.041885e-24  1.000000\n",
      "3          Decision Tree  3.277749e+02  0.868665\n",
      "4      Gradient Boosting  3.469246e+00  0.998610\n",
      "5      XGBoost Regressor  1.413361e+00  0.999434\n"
     ]
    }
   ],
   "source": [
    "model_comparison = pd.DataFrame({\n",
    "    'Model': ['Random Forest', 'Linear Regression', 'Polynomial Regression', 'Decision Tree','Gradient Boosting','XGBoost Regressor'],\n",
    "    'MSE': [rf_mse, lr_mse, pr_mse, tree_mse,mse_gb,mse_xgb],\n",
    "    'R² Score': [rf_r2, lr_r2, pr_r2, tree_r2,r2_gb,r2_xgb]\n",
    "})\n",
    "\n",
    "# Display the comparison\n",
    "print(model_comparison)"
   ]
  },
  {
   "cell_type": "code",
   "execution_count": null,
   "id": "0826be7e-77fc-4c3c-a118-15af25e37e7a",
   "metadata": {},
   "outputs": [],
   "source": []
  },
  {
   "cell_type": "code",
   "execution_count": 203,
   "id": "67ad1843-08cf-4a54-81ac-63e92cb2eff7",
   "metadata": {},
   "outputs": [],
   "source": [
    "X_sample = X_train.sample(frac=0.1, random_state=42)  # Take 10% of the data\n",
    "y_sample = y_train.sample(frac=0.1, random_state=42)\n"
   ]
  },
  {
   "cell_type": "code",
   "execution_count": 205,
   "id": "d939a1d0-4073-459d-936c-c8c9d5ebce8a",
   "metadata": {},
   "outputs": [
    {
     "name": "stdout",
     "output_type": "stream",
     "text": [
      "Fitting 3 folds for each of 100 candidates, totalling 300 fits\n",
      "Best parameters found: {'splitter': 'best', 'min_samples_split': 2, 'min_samples_leaf': 1, 'max_features': None, 'max_depth': 20, 'criterion': 'friedman_mse'}\n"
     ]
    },
    {
     "name": "stderr",
     "output_type": "stream",
     "text": [
      "C:\\Users\\govinda prasad\\AppData\\Roaming\\Python\\Python312\\site-packages\\sklearn\\model_selection\\_validation.py:540: FitFailedWarning: \n",
      "237 fits failed out of a total of 300.\n",
      "The score on these train-test partitions for these parameters will be set to nan.\n",
      "If these failures are not expected, you can try to debug them by setting error_score='raise'.\n",
      "\n",
      "Below are more details about the failures:\n",
      "--------------------------------------------------------------------------------\n",
      "102 fits failed with the following error:\n",
      "Traceback (most recent call last):\n",
      "  File \"C:\\Users\\govinda prasad\\AppData\\Roaming\\Python\\Python312\\site-packages\\sklearn\\model_selection\\_validation.py\", line 888, in _fit_and_score\n",
      "    estimator.fit(X_train, y_train, **fit_params)\n",
      "  File \"C:\\Users\\govinda prasad\\AppData\\Roaming\\Python\\Python312\\site-packages\\sklearn\\base.py\", line 1466, in wrapper\n",
      "    estimator._validate_params()\n",
      "  File \"C:\\Users\\govinda prasad\\AppData\\Roaming\\Python\\Python312\\site-packages\\sklearn\\base.py\", line 666, in _validate_params\n",
      "    validate_parameter_constraints(\n",
      "  File \"C:\\Users\\govinda prasad\\AppData\\Roaming\\Python\\Python312\\site-packages\\sklearn\\utils\\_param_validation.py\", line 95, in validate_parameter_constraints\n",
      "    raise InvalidParameterError(\n",
      "sklearn.utils._param_validation.InvalidParameterError: The 'criterion' parameter of DecisionTreeRegressor must be a str among {'friedman_mse', 'poisson', 'squared_error', 'absolute_error'}. Got 'mae' instead.\n",
      "\n",
      "--------------------------------------------------------------------------------\n",
      "117 fits failed with the following error:\n",
      "Traceback (most recent call last):\n",
      "  File \"C:\\Users\\govinda prasad\\AppData\\Roaming\\Python\\Python312\\site-packages\\sklearn\\model_selection\\_validation.py\", line 888, in _fit_and_score\n",
      "    estimator.fit(X_train, y_train, **fit_params)\n",
      "  File \"C:\\Users\\govinda prasad\\AppData\\Roaming\\Python\\Python312\\site-packages\\sklearn\\base.py\", line 1466, in wrapper\n",
      "    estimator._validate_params()\n",
      "  File \"C:\\Users\\govinda prasad\\AppData\\Roaming\\Python\\Python312\\site-packages\\sklearn\\base.py\", line 666, in _validate_params\n",
      "    validate_parameter_constraints(\n",
      "  File \"C:\\Users\\govinda prasad\\AppData\\Roaming\\Python\\Python312\\site-packages\\sklearn\\utils\\_param_validation.py\", line 95, in validate_parameter_constraints\n",
      "    raise InvalidParameterError(\n",
      "sklearn.utils._param_validation.InvalidParameterError: The 'criterion' parameter of DecisionTreeRegressor must be a str among {'friedman_mse', 'poisson', 'squared_error', 'absolute_error'}. Got 'mse' instead.\n",
      "\n",
      "--------------------------------------------------------------------------------\n",
      "18 fits failed with the following error:\n",
      "Traceback (most recent call last):\n",
      "  File \"C:\\Users\\govinda prasad\\AppData\\Roaming\\Python\\Python312\\site-packages\\sklearn\\model_selection\\_validation.py\", line 888, in _fit_and_score\n",
      "    estimator.fit(X_train, y_train, **fit_params)\n",
      "  File \"C:\\Users\\govinda prasad\\AppData\\Roaming\\Python\\Python312\\site-packages\\sklearn\\base.py\", line 1466, in wrapper\n",
      "    estimator._validate_params()\n",
      "  File \"C:\\Users\\govinda prasad\\AppData\\Roaming\\Python\\Python312\\site-packages\\sklearn\\base.py\", line 666, in _validate_params\n",
      "    validate_parameter_constraints(\n",
      "  File \"C:\\Users\\govinda prasad\\AppData\\Roaming\\Python\\Python312\\site-packages\\sklearn\\utils\\_param_validation.py\", line 95, in validate_parameter_constraints\n",
      "    raise InvalidParameterError(\n",
      "sklearn.utils._param_validation.InvalidParameterError: The 'max_features' parameter of DecisionTreeRegressor must be an int in the range [1, inf), a float in the range (0.0, 1.0], a str among {'log2', 'sqrt'} or None. Got 'auto' instead.\n",
      "\n",
      "  warnings.warn(some_fits_failed_message, FitFailedWarning)\n",
      "C:\\Users\\govinda prasad\\AppData\\Roaming\\Python\\Python312\\site-packages\\sklearn\\model_selection\\_search.py:1103: UserWarning: One or more of the test scores are non-finite: [0.76371876 0.91736512        nan        nan        nan        nan\n",
      " 0.96230383 0.89217474        nan        nan        nan        nan\n",
      "        nan 0.57606018        nan        nan        nan        nan\n",
      "        nan        nan        nan 0.65336518        nan        nan\n",
      "        nan        nan        nan        nan        nan        nan\n",
      "        nan        nan        nan        nan        nan        nan\n",
      "        nan        nan 0.37557819        nan        nan        nan\n",
      "        nan        nan        nan        nan        nan 0.99744327\n",
      "        nan        nan        nan        nan 0.61606281        nan\n",
      "        nan        nan        nan 0.99666721        nan        nan\n",
      "        nan        nan        nan        nan 0.87636474        nan\n",
      "        nan        nan        nan        nan 0.8998165  0.72125726\n",
      "        nan        nan 0.99822388 0.77425201 0.79952236        nan\n",
      "        nan        nan        nan        nan        nan        nan\n",
      " 0.91180749        nan 0.9819262         nan        nan        nan\n",
      "        nan        nan 0.96619746 0.9977337  0.69136354        nan\n",
      "        nan        nan        nan        nan]\n",
      "  warnings.warn(\n"
     ]
    }
   ],
   "source": [
    "from sklearn.model_selection import RandomizedSearchCV\n",
    "from sklearn.metrics import mean_squared_error, r2_score\n",
    "from sklearn.impute import SimpleImputer\n",
    "\n",
    "# Define the parameter grid for RandomizedSearchCV\n",
    "# Define parameter grid for DecisionTreeRegressor\n",
    "param_distributions_tree = {\n",
    "    'max_depth': [3, 5, 10, 20, None],\n",
    "    'min_samples_split': [2, 5, 10],\n",
    "    'min_samples_leaf': [1, 2, 4],\n",
    "    'max_features': ['auto', 'sqrt', 'log2', None],\n",
    "    'criterion': ['mse', 'friedman_mse', 'mae'],\n",
    "    'splitter': ['best', 'random']\n",
    "}\n",
    "\n",
    "# Perform RandomizedSearchCV\n",
    "random_search = RandomizedSearchCV(\n",
    "    estimator=tree_model,\n",
    "    param_distributions=param_distributions_tree,\n",
    "    n_iter=100,\n",
    "    cv=3,\n",
    "    n_jobs=1,  # Limit to 1 process\n",
    "    verbose=1\n",
    ")\n",
    "\n",
    "# Fit the model with the training data\n",
    "random_search.fit(X_sample, y_sample)\n",
    "\n",
    "# Get the best parameters and print them\n",
    "best_params = random_search.best_params_\n",
    "print(f\"Best parameters found: {best_params}\")\n",
    "\n",
    "\n"
   ]
  },
  {
   "cell_type": "code",
   "execution_count": 207,
   "id": "b1c06e13-818e-4f39-aa66-9f271f777eb7",
   "metadata": {},
   "outputs": [
    {
     "name": "stdout",
     "output_type": "stream",
     "text": [
      "Random Forest Regressor - MSE: 3.1861, R2 Score: 0.9987\n"
     ]
    }
   ],
   "source": [
    "# Get the best model and make predictions\n",
    "best_tree_model = random_search.best_estimator_\n",
    "tree_predictions = best_tree_model.predict(X_test)\n",
    "\n",
    "# Evaluate the model\n",
    "tree_mse = mean_squared_error(y_test, tree_predictions)  # Assuming y_test is your test target\n",
    "tree_r2 = r2_score(y_test, tree_predictions)\n",
    "\n",
    "# Print the evaluation metrics\n",
    "print(f\"Random Forest Regressor - MSE: {tree_mse:.4f}, R2 Score: {tree_r2:.4f}\")\n"
   ]
  },
  {
   "cell_type": "code",
   "execution_count": 209,
   "id": "b6c23d3f-cba5-4f6b-b106-ed9ea4b8723e",
   "metadata": {},
   "outputs": [
    {
     "name": "stdout",
     "output_type": "stream",
     "text": [
      "Random Forest Regressor - MSE: 3.1861, R2 Score: 0.9987\n"
     ]
    }
   ],
   "source": [
    "tree_mse = mean_squared_error(y_test, tree_predictions) # Assuming y_test is your test target\n",
    "tree_r2 = r2_score(y_test, tree_predictions)\n",
    "print(f\"Random Forest Regressor - MSE: {tree_mse:.4f}, R2 Score: {tree_r2:.4f}\")\n",
    "     "
   ]
  },
  {
   "cell_type": "code",
   "execution_count": 211,
   "id": "3b130d1c-f87d-49dc-b889-6844ec970957",
   "metadata": {},
   "outputs": [
    {
     "data": {
      "text/plain": [
       "array([115.09278835])"
      ]
     },
     "execution_count": 211,
     "metadata": {},
     "output_type": "execute_result"
    }
   ],
   "source": [
    "predicted_runs_tree = tree_model.predict(new_data)\n",
    "predicted_runs_tree"
   ]
  },
  {
   "cell_type": "code",
   "execution_count": null,
   "id": "08bbc29f-60bf-4270-b7d5-a84db2069357",
   "metadata": {},
   "outputs": [],
   "source": []
  }
 ],
 "metadata": {
  "kernelspec": {
   "display_name": "Python 3 (ipykernel)",
   "language": "python",
   "name": "python3"
  },
  "language_info": {
   "codemirror_mode": {
    "name": "ipython",
    "version": 3
   },
   "file_extension": ".py",
   "mimetype": "text/x-python",
   "name": "python",
   "nbconvert_exporter": "python",
   "pygments_lexer": "ipython3",
   "version": "3.12.4"
  }
 },
 "nbformat": 4,
 "nbformat_minor": 5
}
